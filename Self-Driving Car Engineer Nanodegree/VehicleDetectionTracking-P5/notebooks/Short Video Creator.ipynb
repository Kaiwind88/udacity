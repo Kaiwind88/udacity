{
 "cells": [
  {
   "cell_type": "markdown",
   "metadata": {},
   "source": [
    "## Short Video Creator\n",
    "\n",
    "Here we will shorten a given video by selectively choosing a window in the scene. Short video will help us iterate quickly."
   ]
  },
  {
   "cell_type": "markdown",
   "metadata": {},
   "source": [
    "### Extract Frames "
   ]
  },
  {
   "cell_type": "code",
   "execution_count": 22,
   "metadata": {
    "collapsed": false
   },
   "outputs": [
    {
     "name": "stdout",
     "output_type": "stream",
     "text": [
      "Extracted 1260 frames\n"
     ]
    }
   ],
   "source": [
    "import cv2\n",
    "\n",
    "FOLDER = '/Users/shrek/tmp'\n",
    "\n",
    "vidcap = cv2.VideoCapture('../videos/project_video.mp4')\n",
    "success, image = vidcap.read()\n",
    "count = 0\n",
    "success = True\n",
    "while success:\n",
    "  success,image = vidcap.read()\n",
    "  cv2.imwrite(FOLDER + \"/frame%d.jpg\" % count, image)     # save frame as JPEG file\n",
    "  count += 1\n",
    "\n",
    "print(\"Extracted {} frames\".format(count))"
   ]
  },
  {
   "cell_type": "markdown",
   "metadata": {},
   "source": [
    "### Choose Frames"
   ]
  },
  {
   "cell_type": "code",
   "execution_count": 23,
   "metadata": {
    "collapsed": false
   },
   "outputs": [
    {
     "name": "stdout",
     "output_type": "stream",
     "text": [
      "131 frames selected\n"
     ]
    }
   ],
   "source": [
    "# frame670.jpg - frame800.jpg\n",
    "selected_frames = []\n",
    "for x in range(670, 801):\n",
    "    selected_frames.append(FOLDER + \"/frame%d.jpg\" % x)\n",
    "    \n",
    "print(\"{} frames selected\".format(len(selected_frames)))"
   ]
  },
  {
   "cell_type": "markdown",
   "metadata": {},
   "source": [
    "### Create Movie"
   ]
  },
  {
   "cell_type": "code",
   "execution_count": 33,
   "metadata": {
    "collapsed": true
   },
   "outputs": [],
   "source": [
    "# Import everything needed to edit/save/watch video clips\n",
    "from moviepy.editor import VideoFileClip, ImageSequenceClip\n",
    "from IPython.display import HTML\n",
    "\n",
    "def build_movie(files, movie_fn):\n",
    "    clip = ImageSequenceClip(files, fps=30)\n",
    "    clip.write_videofile(movie_fn)"
   ]
  },
  {
   "cell_type": "code",
   "execution_count": 34,
   "metadata": {
    "collapsed": false
   },
   "outputs": [
    {
     "name": "stdout",
     "output_type": "stream",
     "text": [
      "[MoviePy] >>>> Building video /Users/shrek/tmp/short-movie.mp4\n",
      "[MoviePy] Writing video /Users/shrek/tmp/short-movie.mp4\n"
     ]
    },
    {
     "name": "stderr",
     "output_type": "stream",
     "text": [
      "100%|██████████| 131/131 [00:04<00:00, 26.93it/s]     | 4/131 [00:00<00:04, 30.79it/s]\n"
     ]
    },
    {
     "name": "stdout",
     "output_type": "stream",
     "text": [
      "[MoviePy] Done.\n",
      "[MoviePy] >>>> Video ready: /Users/shrek/tmp/short-movie.mp4 \n",
      "\n",
      "Short Movie Created\n"
     ]
    }
   ],
   "source": [
    "movie_fn = FOLDER + '/short-movie.mp4'\n",
    "build_movie(selected_frames, movie_fn)\n",
    "\n",
    "print(\"Short Movie Created\")"
   ]
  },
  {
   "cell_type": "markdown",
   "metadata": {},
   "source": [
    "### Visualize movie"
   ]
  },
  {
   "cell_type": "code",
   "execution_count": 26,
   "metadata": {
    "collapsed": false
   },
   "outputs": [
    {
     "data": {
      "text/html": [
       "\n",
       "<video width=\"960\" height=\"540\" controls>\n",
       "  <source src=\"/Users/shrek/tmp/short-movie.mp4\">\n",
       "</video>\n"
      ],
      "text/plain": [
       "<IPython.core.display.HTML object>"
      ]
     },
     "execution_count": 26,
     "metadata": {},
     "output_type": "execute_result"
    }
   ],
   "source": [
    "HTML(\"\"\"\n",
    "<video width=\"960\" height=\"540\" controls>\n",
    "  <source src=\"{0}\">\n",
    "</video>\n",
    "\"\"\".format(movie_fn))"
   ]
  },
  {
   "cell_type": "code",
   "execution_count": null,
   "metadata": {
    "collapsed": true
   },
   "outputs": [],
   "source": []
  }
 ],
 "metadata": {
  "anaconda-cloud": {},
  "kernelspec": {
   "display_name": "Python [conda env:tensorflow]",
   "language": "python",
   "name": "conda-env-tensorflow-py"
  },
  "language_info": {
   "codemirror_mode": {
    "name": "ipython",
    "version": 3
   },
   "file_extension": ".py",
   "mimetype": "text/x-python",
   "name": "python",
   "nbconvert_exporter": "python",
   "pygments_lexer": "ipython3",
   "version": "3.5.2"
  }
 },
 "nbformat": 4,
 "nbformat_minor": 2
}
